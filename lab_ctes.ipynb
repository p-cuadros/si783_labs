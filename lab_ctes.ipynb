{
    "metadata": {
        "kernelspec": {
            "name": "SQL",
            "display_name": "SQL",
            "language": "sql"
        },
        "language_info": {
            "name": "sql",
            "version": ""
        }
    },
    "nbformat_minor": 2,
    "nbformat": 4,
    "cells": [
        {
            "cell_type": "markdown",
            "source": "DEMOSTRACIÓN",
            "metadata": {}
        },
        {
            "cell_type": "markdown",
            "source": "1. Utilizando Vistas",
            "metadata": {}
        },
        {
            "cell_type": "markdown",
            "source": "1.1. Accediendo a la base de datos TSQL",
            "metadata": {}
        },
        {
            "cell_type": "code",
            "source": "USE TSQL;\r\nGO",
            "metadata": {},
            "outputs": [],
            "execution_count": 0
        },
        {
            "cell_type": "markdown",
            "source": "1.2 Seleccionar y ejecutar el siguiente código para crear una vista",
            "metadata": {}
        },
        {
            "cell_type": "code",
            "source": "CREATE VIEW HR.EmpPhoneList\r\nAS\r\nSELECT empid, lastname, firstname, phone\r\nFROM HR.Employees;\r\nGO",
            "metadata": {},
            "outputs": [],
            "execution_count": 0
        },
        {
            "cell_type": "markdown",
            "source": "1.3 Consultar la nueva vista",
            "metadata": {}
        },
        {
            "cell_type": "code",
            "source": "SELECT empid, lastname, firstname, phone\r\nFROM HR.EmpPhoneList;\r\nGO",
            "metadata": {},
            "outputs": [],
            "execution_count": 0
        },
        {
            "cell_type": "markdown",
            "source": "1.4 Crear una vista ustilizando un JOIN multi-tabla",
            "metadata": {}
        },
        {
            "cell_type": "code",
            "source": "CREATE VIEW Sales.OrdersByEmployeeYear\r\nAS\r\n    SELECT  emp.empid AS employee ,\r\n            YEAR(ord.orderdate) AS orderyear ,\r\n            SUM(od.qty * od.unitprice) AS totalsales\r\n    FROM    HR.Employees AS emp\r\n            JOIN Sales.Orders AS ord ON emp.empid = ord.empid\r\n            JOIN Sales.OrderDetails AS od ON ord.orderid = od.orderid\r\n    GROUP BY emp.empid ,\r\n            YEAR(ord.orderdate)\r\nGO",
            "metadata": {},
            "outputs": [],
            "execution_count": 0
        },
        {
            "cell_type": "markdown",
            "source": "1.5 Seleccionar la vista",
            "metadata": {}
        },
        {
            "cell_type": "code",
            "source": "SELECT employee, orderyear, totalsales\r\nFROM Sales.OrdersByEmployeeYear\r\nORDER BY employee, orderyear;",
            "metadata": {},
            "outputs": [],
            "execution_count": 0
        },
        {
            "cell_type": "markdown",
            "source": "1.6 Limpiar los cambios",
            "metadata": {}
        },
        {
            "cell_type": "code",
            "source": "DROP VIEW Sales.OrdersByEmployeeYear;\r\nDROP VIEW HR.EmpPhoneList;",
            "metadata": {},
            "outputs": [],
            "execution_count": 0
        },
        {
            "cell_type": "markdown",
            "source": "2. Utilizando Funciones de Tabla en Linea",
            "metadata": {}
        },
        {
            "cell_type": "markdown",
            "source": "2.1. Ejecutar y consultar la siguiente función de ejemplo dbo.GetNums() toma como parámetros: @low (bigint) y @high (bigint)",
            "metadata": {}
        },
        {
            "cell_type": "code",
            "source": "SELECT * FROM dbo.GetNums(10,20);\r\nGO",
            "metadata": {},
            "outputs": [],
            "execution_count": 0
        },
        {
            "cell_type": "markdown",
            "source": "2.2. Crear una función para calcular para extensión de líneas para ordenes de compra",
            "metadata": {}
        },
        {
            "cell_type": "code",
            "source": "CREATE FUNCTION Sales.fn_LineTotal ( @orderid INT )\r\nRETURNS TABLE\r\nAS\r\nRETURN\r\n    SELECT  orderid, productid, unitprice, qty, discount,\r\n            CAST(( qty * unitprice * ( 1 - discount ) ) AS DECIMAL(8, 2)) AS line_total\r\n    FROM    Sales.OrderDetails\r\n    WHERE   orderid = @orderid ;\r\nGO",
            "metadata": {},
            "outputs": [],
            "execution_count": 0
        },
        {
            "cell_type": "markdown",
            "source": "2.3. Utilizando la función",
            "metadata": {}
        },
        {
            "cell_type": "code",
            "source": "SELECT orderid, productid, unitprice, qty, discount, line_total\r\nFROM Sales.fn_LineTotal(10252) AS LT;\r\nGO",
            "metadata": {},
            "outputs": [],
            "execution_count": 0
        },
        {
            "cell_type": "markdown",
            "source": "2.4. Limpiar los cambios",
            "metadata": {}
        },
        {
            "cell_type": "code",
            "source": "DROP FUNCTION Sales.fn_LineTotal;\r\nGO",
            "metadata": {},
            "outputs": [],
            "execution_count": 0
        },
        {
            "cell_type": "markdown",
            "source": "3. Utilizando Tablas Derivadas",
            "metadata": {}
        },
        {
            "cell_type": "markdown",
            "source": "3.1. Visualizando alias internos de columnas.",
            "metadata": {}
        },
        {
            "cell_type": "code",
            "source": "SELECT orderyear, COUNT(DISTINCT custid) AS cust_count\r\nFROM (SELECT YEAR(orderdate) AS orderyear, custid\r\nFROM Sales.Orders) AS derived_year\r\nGROUP BY orderyear;",
            "metadata": {},
            "outputs": [],
            "execution_count": 0
        },
        {
            "cell_type": "markdown",
            "source": "3.2. Utilizando una variable como parametro de una tabla derivada",
            "metadata": {}
        },
        {
            "cell_type": "code",
            "source": "DECLARE @emp_id INT = 9;\r\nSELECT orderyear, COUNT(DISTINCT custid) AS cust_count\r\nFROM (\t\r\n\tSELECT YEAR(orderdate) AS orderyear, custid\r\n\tFROM Sales.Orders\r\n\tWHERE empid=@emp_id\r\n) AS derived_year\r\nGROUP BY orderyear;",
            "metadata": {},
            "outputs": [],
            "execution_count": 0
        },
        {
            "cell_type": "markdown",
            "source": "3.3. Enlazando tablas derivadas",
            "metadata": {}
        },
        {
            "cell_type": "code",
            "source": "SELECT orderyear, cust_count\r\nFROM  (\r\n\tSELECT  orderyear, COUNT(DISTINCT custid) AS cust_count\r\n\tFROM (\r\n\t\tSELECT YEAR(orderdate) AS orderyear ,custid\r\n        FROM Sales.Orders) AS derived_table_1\r\n\tGROUP BY orderyear) AS derived_table_2\r\nWHERE cust_count > 80;",
            "metadata": {},
            "outputs": [],
            "execution_count": 0
        },
        {
            "cell_type": "markdown",
            "source": "3.4. Una alternativa al ejemplo anterior sería.",
            "metadata": {}
        },
        {
            "cell_type": "code",
            "source": "SELECT orderyear, COUNT(DISTINCT custid) AS cust_count\r\n\tFROM (\r\n\t\tSELECT YEAR(orderdate) AS orderyear ,custid\r\n        FROM Sales.Orders) AS derived_table_1\r\n\tGROUP BY orderyear\r\nHAVING COUNT(DISTINCT custid) > 80;",
            "metadata": {},
            "outputs": [],
            "execution_count": 0
        },
        {
            "cell_type": "markdown",
            "source": "4. Utilizando Expresions Comunes de Tabla",
            "metadata": {}
        },
        {
            "cell_type": "markdown",
            "source": "4.1. Ejecutar la siguiente expresión.",
            "metadata": {}
        },
        {
            "cell_type": "code",
            "source": "WITH CTE_year AS\r\n\t(\r\n\tSELECT YEAR(orderdate) AS orderyear, custid\r\n\tFROM Sales.Orders\r\n\t)\r\nSELECT orderyear, COUNT(DISTINCT custid) AS cust_count\r\nFROM CTE_year\r\nGROUP BY orderyear;",
            "metadata": {},
            "outputs": [],
            "execution_count": 0
        },
        {
            "cell_type": "markdown",
            "source": "4.2. También se puede utilizar de modo recursico",
            "metadata": {}
        },
        {
            "cell_type": "code",
            "source": "WITH EmpOrg_CTE AS\r\n(SELECT empid, mgrid, lastname, firstname --anchor query\r\n\tFROM HR.Employees\r\nWHERE empid = 5 -- starting \"top\" of tree. Change this to show other root employees\r\n\r\nUNION ALL\r\nSELECT child.empid, child.mgrid, child.lastname, child.firstname -- recursive member which refers back to CTE\r\n\tFROM EmpOrg_CTE AS parent\r\n\tJOIN HR.Employees AS child\r\n\tON child.mgrid=parent.empid\r\n)\r\nSELECT empid, mgrid, lastname, firstname\r\nFROM EmpOrg_CTE;",
            "metadata": {},
            "outputs": [],
            "execution_count": 0
        }
    ]
}