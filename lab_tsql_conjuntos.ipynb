{
    "metadata": {
        "kernelspec": {
            "name": "SQL",
            "display_name": "SQL",
            "language": "sql"
        },
        "language_info": {
            "name": "sql",
            "version": ""
        }
    },
    "nbformat_minor": 2,
    "nbformat": 4,
    "cells": [
        {
            "cell_type": "markdown",
            "source": "<h1>Sesión N° 02 - Utilizando Operadores de Conjuntos de Datos",
            "metadata": {}
        },
        {
            "cell_type": "markdown",
            "source": "<h2>1. Operador UNION",
            "metadata": {}
        },
        {
            "cell_type": "markdown",
            "source": "1.1. Conectar con la BD TSQL",
            "metadata": {}
        },
        {
            "cell_type": "code",
            "source": "USE TSQL;\r\nGO",
            "metadata": {},
            "outputs": [],
            "execution_count": 0
        },
        {
            "cell_type": "markdown",
            "source": "1.2. El operador UNION ALL devuelve todas las filas de ambas tablas incluyendo duplicados",
            "metadata": {}
        },
        {
            "cell_type": "code",
            "source": "SELECT country, region, city FROM HR.Employees\r\nUNION ALL -- 100 rows\r\nSELECT country, region, city FROM Sales.Customers;",
            "metadata": {},
            "outputs": [],
            "execution_count": 0
        },
        {
            "cell_type": "markdown",
            "source": "1.3. El operador UNION ALL devuelve todas las filas de ambas tablas excluyendo duplicados",
            "metadata": {}
        },
        {
            "cell_type": "code",
            "source": "SELECT country, region, city FROM HR.Employees \r\nUNION \r\nSELECT country, region, city FROM Sales.Customers; ",
            "metadata": {},
            "outputs": [],
            "execution_count": 0
        },
        {
            "cell_type": "markdown",
            "source": "<h2>2. Operador EXCEPT y INTERSECT",
            "metadata": {}
        },
        {
            "cell_type": "markdown",
            "source": "2.1. El operador INTERSECT retorna solo las filas encontradas en ambas tablas",
            "metadata": {}
        },
        {
            "cell_type": "code",
            "source": "SELECT country, region, city FROM HR.Employees\r\nINTERSECT -- 3 distinct rows \r\nSELECT country, region, city FROM Sales.Customers;",
            "metadata": {},
            "outputs": [],
            "execution_count": 0
        },
        {
            "cell_type": "markdown",
            "source": "2.2. El operador EXCEPT retorna solo las filas de la tabla tabla derecha (HR.Employees) que no se intersectan con la tabla izquierda.",
            "metadata": {}
        },
        {
            "cell_type": "code",
            "source": "SELECT country, region, city FROM HR.Employees\r\nEXCEPT \r\nSELECT country, region, city FROM Sales.Customers;",
            "metadata": {},
            "outputs": [],
            "execution_count": 0
        },
        {
            "cell_type": "markdown",
            "source": "2.3. El operador EXCEPT retorna solo las filas de la tabla tabla derecha (Sales.Custormers) que no se intersectan con la tabla izquierda.",
            "metadata": {}
        },
        {
            "cell_type": "code",
            "source": "SELECT country, region, city FROM Sales.Customers\r\nEXCEPT \r\nSELECT country, region, city FROM HR.Employees;",
            "metadata": {},
            "outputs": [],
            "execution_count": 0
        },
        {
            "cell_type": "markdown",
            "source": "<h2>3. Utilizando el Operador APPLY",
            "metadata": {}
        },
        {
            "cell_type": "markdown",
            "source": "3.1. Crear una función de tabla que acepte una variable SupplierID y retorne el top 3 de los productos más costosos de ese proveedor",
            "metadata": {}
        },
        {
            "cell_type": "code",
            "source": "CREATE FUNCTION dbo.fn_TopProductsByShipper\r\n(@supplierid int)\r\nRETURNS TABLE\r\nAS\r\nRETURN\r\n\tSELECT TOP (3) productid, productname, unitprice\r\n\tFROM Production.Products\r\n\tWHERE supplierid = @supplierid\r\n\tORDER BY unitprice DESC;\r\nGO",
            "metadata": {},
            "outputs": [],
            "execution_count": 0
        },
        {
            "cell_type": "markdown",
            "source": "3.2. Probar la función con el proveedor ID=2",
            "metadata": {}
        },
        {
            "cell_type": "code",
            "source": "SELECT * FROM dbo.fn_TopProductsByShipper(2);\r\n",
            "metadata": {},
            "outputs": [],
            "execution_count": 0
        },
        {
            "cell_type": "markdown",
            "source": "3.3. Probar con el operador CROSS APPLY",
            "metadata": {}
        },
        {
            "cell_type": "code",
            "source": "SELECT S.supplierid, S.companyname,\r\n\tP.productid, P.productname, P.unitprice\r\nFROM Production.Suppliers AS S\r\nCROSS APPLY dbo.fn_TopProductsByShipper(S.supplierid) AS P\r\nORDER BY S.supplierid ASC, P.unitprice DESC;",
            "metadata": {},
            "outputs": [],
            "execution_count": 0
        },
        {
            "cell_type": "markdown",
            "source": "3.4. Escribir una consulta para buscar clientes sin ordenes generadas.",
            "metadata": {}
        },
        {
            "cell_type": "code",
            "source": "SELECT C.custid, C.companyname\r\nFROM Sales.Customers AS C --91 customers\r\nLEFT OUTER JOIN Sales.Orders AS O -- 830 orders\r\nON C.custid = O.custid --832 results with NULL cust",
            "metadata": {},
            "outputs": [],
            "execution_count": 0
        },
        {
            "cell_type": "markdown",
            "source": "3.5. Retornar los tres productos más recientemente ordenados por cliente, Utilizando CROSS APPLY",
            "metadata": {}
        },
        {
            "cell_type": "code",
            "source": "SELECT C.custid, TopOrders.orderid, TopOrders.orderdate\r\nFROM Sales.Customers AS C\r\nCROSS APPLY\r\n(SELECT TOP (3) orderid, orderdate\r\n\tFROM Sales.Orders AS O\r\n\tWHERE O.custid = C.custid\r\n\tORDER BY orderdate DESC, orderid DESC) AS TopOrders;",
            "metadata": {},
            "outputs": [],
            "execution_count": 0
        },
        {
            "cell_type": "markdown",
            "source": "3.6. Utilizar OUTER APPLY para incluir a los clientes sin ordenes",
            "metadata": {}
        },
        {
            "cell_type": "code",
            "source": "SELECT C.custid, TopOrders.orderid, TopOrders.orderdate\r\nFROM Sales.Customers AS C\r\nOUTER APPLY\r\n(SELECT TOP (3) orderid, orderdate\r\n\tFROM Sales.Orders AS O\r\n\tWHERE O.custid = C.custid\r\n\tORDER BY orderdate DESC, orderid DESC) AS TopOrders; ",
            "metadata": {},
            "outputs": [],
            "execution_count": 0
        }
    ]
}